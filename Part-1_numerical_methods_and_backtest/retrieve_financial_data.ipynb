{
 "cells": [
  {
   "cell_type": "code",
   "execution_count": 74,
   "id": "05719e33",
   "metadata": {},
   "outputs": [],
   "source": [
    "from openbb import obb\n",
    "\n",
    "# Drop unnecessary columns from openbb and set columns to correctly match with the backtesting framework \n",
    "def cleandata(df):\n",
    "    if(df.columns.isin(['open','high','low','close','volume']).any()):\n",
    "        df = df[['open','high','low','close','volume']]\n",
    "    #     df.drop([\"transactions\",\"vwap\"],axis=1,inplace=True, errors='ignore')\n",
    "        df.columns = [\"Open\", \"High\", \"Low\", \"Close\", \"Volume\"]\n",
    "    return df"
   ]
  },
  {
   "cell_type": "code",
   "execution_count": 75,
   "id": "e3d0e3c1",
   "metadata": {},
   "outputs": [],
   "source": [
    "#Getting historical daily price data for both btc and eth\n",
    "df = obb.crypto.price.historical([\"BTC-USD\",\"ETH-USD\"], \n",
    "                                  start_date='2022-09-01',\n",
    "                                  end_date = '2024-08-01').to_df()"
   ]
  },
  {
   "cell_type": "code",
   "execution_count": 77,
   "id": "ec3b432b",
   "metadata": {},
   "outputs": [
    {
     "name": "stdout",
     "output_type": "stream",
     "text": [
      "                Open      High       Low     Close        Volume\n",
      "date                                                            \n",
      "2022-09-01  20048.27  20205.53  19561.01  20133.65  3.018203e+10\n",
      "2022-09-02  20132.67  20444.00  19755.00  19953.74  2.912400e+10\n",
      "2022-09-03  19953.40  20053.90  19655.00  19835.47  2.361305e+10\n",
      "2022-09-04  19833.59  20026.20  19588.27  20004.73  2.524586e+10\n",
      "2022-09-05  20003.85  20060.00  19633.11  19794.58  2.881346e+10\n",
      "...              ...       ...       ...       ...           ...\n",
      "2024-07-28  67901.81  68308.82  67021.80  68244.30  2.392337e+08\n",
      "2024-07-29  68244.30  70000.00  66400.01  66771.45  9.108617e+08\n",
      "2024-07-30  66767.14  66994.15  65283.68  66169.68  5.778836e+08\n",
      "2024-07-31  66169.68  66837.40  64500.00  64609.62  5.806063e+08\n",
      "2024-08-01  64609.61  65593.56  62212.81  65288.18  1.020873e+09\n",
      "\n",
      "[701 rows x 5 columns]\n",
      "               Open     High      Low    Close        Volume\n",
      "date                                                        \n",
      "2022-09-01  1554.25  1599.51  1512.83  1586.23  1.643428e+10\n",
      "2022-09-02  1586.10  1650.00  1546.20  1575.69  1.770848e+10\n",
      "2022-09-03  1575.81  1582.69  1534.54  1557.70  9.516826e+09\n",
      "2022-09-04  1557.55  1583.52  1540.59  1579.04  8.884145e+09\n",
      "2022-09-05  1578.97  1631.44  1557.04  1618.01  1.306054e+10\n",
      "...             ...      ...      ...      ...           ...\n",
      "2024-07-28  3249.24  3283.98  3198.23  3269.98  9.972618e+07\n",
      "2024-07-29  3270.15  3396.61  3256.68  3317.55  3.700714e+08\n",
      "2024-07-30  3317.42  3365.68  3232.55  3278.27  2.832700e+08\n",
      "2024-07-31  3278.42  3348.00  3213.00  3231.81  2.835073e+08\n",
      "2024-08-01  3231.81  3242.14  3077.17  3200.54  3.686659e+08\n",
      "\n",
      "[701 rows x 5 columns]\n"
     ]
    }
   ],
   "source": [
    "# split by crypto\n",
    "df_BTC = df[df[\"symbol\"]==\"BTCUSD\"].drop(\"symbol\", axis=1)\n",
    "df_ETH = df[df[\"symbol\"]==\"ETHUSD\"].drop(\"symbol\", axis=1)\n",
    "\n",
    "# Write to disk\n",
    "# Improvements: Use of database\n",
    "df_BTC = cleandata(df_BTC)\n",
    "df_ETH = cleandata(df_ETH)\n",
    "\n",
    "print(df_BTC)\n",
    "print(df_ETH)\n",
    "df_BTC.to_csv('data/BTC_daily.csv')\n",
    "df_ETH.to_csv('data/ETH_daily.csv')"
   ]
  },
  {
   "cell_type": "code",
   "execution_count": 79,
   "id": "d2eb692f",
   "metadata": {},
   "outputs": [
    {
     "name": "stdout",
     "output_type": "stream",
     "text": [
      "               Open     High      Low    Close        Volume\n",
      "date                                                        \n",
      "2022-09-01  0.07749  0.07923  0.07682  0.07879   8829.630282\n",
      "2022-09-02  0.07877  0.08079  0.07810  0.07895   5352.616359\n",
      "2022-09-03  0.07890  0.07895  0.07766  0.07855   2349.062462\n",
      "2022-09-04  0.07846  0.07939  0.07836  0.07896   4563.738969\n",
      "2022-09-05  0.07904  0.08205  0.07897  0.08172  20628.705177\n",
      "...             ...      ...      ...      ...           ...\n",
      "2024-07-28  0.04786  0.04838  0.04764  0.04796   3425.647761\n",
      "2024-07-29  0.04792  0.04986  0.04766  0.04970   6898.227132\n",
      "2024-07-30  0.04970  0.05036  0.04938  0.04952   4003.047977\n",
      "2024-07-31  0.04955  0.05028  0.04940  0.04999   3476.845473\n",
      "2024-08-01  0.05000  0.05013  0.04875  0.04902   6347.414128\n",
      "\n",
      "[701 rows x 5 columns]\n"
     ]
    }
   ],
   "source": [
    "#Getting historical daily price data for both btc and eth\n",
    "df_ETH_BTC = obb.crypto.price.historical(\"ETH-BTC\", \n",
    "                                  start_date='2022-09-01',\n",
    "                                  end_date = '2024-08-01', provider='polygon').to_df()\n",
    "\n",
    "df_ETH_BTC = cleandata(df_ETH_BTC)\n",
    "display(df_ETH_BTC)\n",
    "df_ETH_BTC.to_csv('data/ETH_BTC_daily.csv')"
   ]
  },
  {
   "cell_type": "code",
   "execution_count": 80,
   "id": "42c20c43",
   "metadata": {},
   "outputs": [],
   "source": [
    "# Please make sure polygon_api_key is stored in your ~/openbb_platform/user_settings.json\n",
    "# Otherwise remove the provider input\n",
    "def get_crypto_historical_from_polygon(ticker):\n",
    "    df = obb.crypto.price.historical(ticker,\n",
    "                                     start_date='2024-05-01',\n",
    "                                     end_date='2024-08-01',\n",
    "                                     interval='15m',\n",
    "                                     provider='polygon').to_df()\n",
    "    df = cleandata(df)\n",
    "    return df"
   ]
  },
  {
   "cell_type": "code",
   "execution_count": 81,
   "id": "16c2914d",
   "metadata": {},
   "outputs": [
    {
     "name": "stdout",
     "output_type": "stream",
     "text": [
      "                               Open     High       Low     Close      Volume\n",
      "date                                                                        \n",
      "2024-05-01 00:00:00+00:00  60610.00  60991.0  60541.35  60541.35  160.993979\n",
      "2024-05-01 00:15:00+00:00  60743.00  60875.0  60322.44  60370.84  116.953860\n",
      "2024-05-01 00:30:00+00:00  60367.51  60581.0  60015.99  60291.27  192.209682\n",
      "2024-05-01 00:45:00+00:00  60294.50  60550.0  60115.63  60173.03  195.513673\n",
      "2024-05-01 01:00:00+00:00  60175.44  60475.0  59803.38  59828.94  261.251889\n",
      "...                             ...      ...       ...       ...         ...\n",
      "2024-08-01 22:45:00+00:00  65323.12  65516.0  65076.70  65116.22  316.639894\n",
      "2024-08-01 23:00:00+00:00  65116.60  65346.0  64920.93  65030.00  277.887537\n",
      "2024-08-01 23:15:00+00:00  65030.00  65194.0  64934.98  65041.07   98.133052\n",
      "2024-08-01 23:30:00+00:00  65039.83  65365.0  64962.60  65211.00   79.573882\n",
      "2024-08-01 23:45:00+00:00  65211.00  65549.0  65170.25  65288.18   97.306846\n",
      "\n",
      "[8928 rows x 5 columns]\n",
      "                               Open     High       Low     Close      Volume\n",
      "date                                                                        \n",
      "2024-05-01 00:00:00+00:00  60610.00  60991.0  60541.35  60541.35  160.993979\n",
      "2024-05-01 00:15:00+00:00  60743.00  60875.0  60322.44  60370.84  116.953860\n",
      "2024-05-01 00:30:00+00:00  60367.51  60581.0  60015.99  60291.27  192.209682\n",
      "2024-05-01 00:45:00+00:00  60294.50  60550.0  60115.63  60173.03  195.513673\n",
      "2024-05-01 01:00:00+00:00  60175.44  60475.0  59803.38  59828.94  261.251889\n",
      "...                             ...      ...       ...       ...         ...\n",
      "2024-08-01 22:45:00+00:00  65323.12  65516.0  65076.70  65116.22  316.639894\n",
      "2024-08-01 23:00:00+00:00  65116.60  65346.0  64920.93  65030.00  277.887537\n",
      "2024-08-01 23:15:00+00:00  65030.00  65194.0  64934.98  65041.07   98.133052\n",
      "2024-08-01 23:30:00+00:00  65039.83  65365.0  64962.60  65211.00   79.573882\n",
      "2024-08-01 23:45:00+00:00  65211.00  65549.0  65170.25  65288.18   97.306846\n",
      "\n",
      "[8928 rows x 5 columns]\n"
     ]
    }
   ],
   "source": [
    "btc_15m = get_crypto_historical_from_polygon('BTC-USD')\n",
    "print(btc_15m)"
   ]
  },
  {
   "cell_type": "code",
   "execution_count": 84,
   "id": "62d59ffa",
   "metadata": {},
   "outputs": [
    {
     "name": "stdout",
     "output_type": "stream",
     "text": [
      "                             Open    High     Low   Close        Volume\n",
      "date                                                                   \n",
      "2024-05-01 00:00:00+00:00  126.63  127.54  126.43  126.43   9480.350219\n",
      "2024-05-01 00:15:00+00:00  126.47  127.36  125.68  125.92  18365.765105\n",
      "2024-05-01 00:30:00+00:00  125.92  126.13  124.44  125.00  31545.380961\n",
      "2024-05-01 00:45:00+00:00  124.99  125.88  124.75  125.04   8946.268212\n",
      "2024-05-01 01:00:00+00:00  125.02  125.78  124.38  124.55  12497.727483\n",
      "...                           ...     ...     ...     ...           ...\n",
      "2024-08-01 22:45:00+00:00  167.59  168.13  166.95  167.31   8411.162567\n",
      "2024-08-01 23:00:00+00:00  167.31  168.13  166.97  167.26   8852.029155\n",
      "2024-08-01 23:15:00+00:00  167.27  167.56  166.82  167.11   8739.188324\n",
      "2024-08-01 23:30:00+00:00  167.11  168.28  166.80  167.90   7170.402839\n",
      "2024-08-01 23:45:00+00:00  167.89  168.44  167.21  167.22   9141.329439\n",
      "\n",
      "[8928 rows x 5 columns]\n"
     ]
    }
   ],
   "source": [
    "sol_15m = get_crypto_historical_from_polygon('SOL-USD')\n",
    "print(sol_15m)"
   ]
  },
  {
   "cell_type": "code",
   "execution_count": 85,
   "id": "d8994f92",
   "metadata": {},
   "outputs": [],
   "source": [
    "btc_15m.to_csv('data/BTC_15m.csv')\n",
    "sol_15m.to_csv('data/SOL_15m.csv')"
   ]
  }
 ],
 "metadata": {
  "kernelspec": {
   "display_name": "Python 3 (ipykernel)",
   "language": "python",
   "name": "python3"
  },
  "language_info": {
   "codemirror_mode": {
    "name": "ipython",
    "version": 3
   },
   "file_extension": ".py",
   "mimetype": "text/x-python",
   "name": "python",
   "nbconvert_exporter": "python",
   "pygments_lexer": "ipython3",
   "version": "3.12.2"
  },
  "nbTranslate": {
   "displayLangs": [
    "*"
   ],
   "hotkey": "alt-t",
   "langInMainMenu": true,
   "sourceLang": "en",
   "targetLang": "fr",
   "useGoogleTranslate": true
  },
  "toc": {
   "base_numbering": 1,
   "nav_menu": {},
   "number_sections": true,
   "sideBar": true,
   "skip_h1_title": false,
   "title_cell": "Table of Contents",
   "title_sidebar": "Contents",
   "toc_cell": false,
   "toc_position": {},
   "toc_section_display": true,
   "toc_window_display": false
  },
  "varInspector": {
   "cols": {
    "lenName": 16,
    "lenType": 16,
    "lenVar": 40
   },
   "kernels_config": {
    "python": {
     "delete_cmd_postfix": "",
     "delete_cmd_prefix": "del ",
     "library": "var_list.py",
     "varRefreshCmd": "print(var_dic_list())"
    },
    "r": {
     "delete_cmd_postfix": ") ",
     "delete_cmd_prefix": "rm(",
     "library": "var_list.r",
     "varRefreshCmd": "cat(var_dic_list()) "
    }
   },
   "types_to_exclude": [
    "module",
    "function",
    "builtin_function_or_method",
    "instance",
    "_Feature"
   ],
   "window_display": false
  }
 },
 "nbformat": 4,
 "nbformat_minor": 5
}
