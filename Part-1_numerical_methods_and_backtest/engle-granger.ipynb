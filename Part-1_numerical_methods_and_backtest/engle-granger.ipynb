{
 "cells": [
  {
   "cell_type": "code",
   "execution_count": 12,
   "id": "e2ad68ca",
   "metadata": {},
   "outputs": [],
   "source": [
    "import pandas as pd\n",
    "import numpy as np\n",
    "\n",
    "import statsmodels.api as sm\n",
    "from statsmodels.tsa.stattools import adfuller\n",
    "from statsmodels.tsa.ar_model import AutoReg\n",
    "\n",
    "\n",
    "pd.set_option('display.max_columns', None)\n",
    "\n",
    "\n",
    "# #Test on BTC data\n",
    "BTC = pd.read_csv('data/BTC_daily.csv', index_col=0, parse_dates=True)\n",
    "ETH = pd.read_csv('data/ETH_daily.csv', index_col=0, parse_dates=True)"
   ]
  },
  {
   "cell_type": "code",
   "execution_count": 13,
   "id": "69549617",
   "metadata": {},
   "outputs": [
    {
     "data": {
      "text/html": [
       "<div>\n",
       "<style scoped>\n",
       "    .dataframe tbody tr th:only-of-type {\n",
       "        vertical-align: middle;\n",
       "    }\n",
       "\n",
       "    .dataframe tbody tr th {\n",
       "        vertical-align: top;\n",
       "    }\n",
       "\n",
       "    .dataframe thead th {\n",
       "        text-align: right;\n",
       "    }\n",
       "</style>\n",
       "<table border=\"1\" class=\"dataframe\">\n",
       "  <thead>\n",
       "    <tr style=\"text-align: right;\">\n",
       "      <th></th>\n",
       "      <th>BTC</th>\n",
       "      <th>ETH</th>\n",
       "    </tr>\n",
       "    <tr>\n",
       "      <th>date</th>\n",
       "      <th></th>\n",
       "      <th></th>\n",
       "    </tr>\n",
       "  </thead>\n",
       "  <tbody>\n",
       "    <tr>\n",
       "      <th>2022-09-01</th>\n",
       "      <td>20133.65</td>\n",
       "      <td>1586.23</td>\n",
       "    </tr>\n",
       "    <tr>\n",
       "      <th>2022-09-02</th>\n",
       "      <td>19953.74</td>\n",
       "      <td>1575.69</td>\n",
       "    </tr>\n",
       "    <tr>\n",
       "      <th>2022-09-03</th>\n",
       "      <td>19835.47</td>\n",
       "      <td>1557.70</td>\n",
       "    </tr>\n",
       "    <tr>\n",
       "      <th>2022-09-04</th>\n",
       "      <td>20004.73</td>\n",
       "      <td>1579.04</td>\n",
       "    </tr>\n",
       "    <tr>\n",
       "      <th>2022-09-05</th>\n",
       "      <td>19794.58</td>\n",
       "      <td>1618.01</td>\n",
       "    </tr>\n",
       "    <tr>\n",
       "      <th>...</th>\n",
       "      <td>...</td>\n",
       "      <td>...</td>\n",
       "    </tr>\n",
       "    <tr>\n",
       "      <th>2024-07-28</th>\n",
       "      <td>68244.30</td>\n",
       "      <td>3269.98</td>\n",
       "    </tr>\n",
       "    <tr>\n",
       "      <th>2024-07-29</th>\n",
       "      <td>66771.45</td>\n",
       "      <td>3317.55</td>\n",
       "    </tr>\n",
       "    <tr>\n",
       "      <th>2024-07-30</th>\n",
       "      <td>66169.68</td>\n",
       "      <td>3278.27</td>\n",
       "    </tr>\n",
       "    <tr>\n",
       "      <th>2024-07-31</th>\n",
       "      <td>64609.62</td>\n",
       "      <td>3231.81</td>\n",
       "    </tr>\n",
       "    <tr>\n",
       "      <th>2024-08-01</th>\n",
       "      <td>65288.18</td>\n",
       "      <td>3200.54</td>\n",
       "    </tr>\n",
       "  </tbody>\n",
       "</table>\n",
       "<p>701 rows × 2 columns</p>\n",
       "</div>"
      ],
      "text/plain": [
       "                 BTC      ETH\n",
       "date                         \n",
       "2022-09-01  20133.65  1586.23\n",
       "2022-09-02  19953.74  1575.69\n",
       "2022-09-03  19835.47  1557.70\n",
       "2022-09-04  20004.73  1579.04\n",
       "2022-09-05  19794.58  1618.01\n",
       "...              ...      ...\n",
       "2024-07-28  68244.30  3269.98\n",
       "2024-07-29  66771.45  3317.55\n",
       "2024-07-30  66169.68  3278.27\n",
       "2024-07-31  64609.62  3231.81\n",
       "2024-08-01  65288.18  3200.54\n",
       "\n",
       "[701 rows x 2 columns]"
      ]
     },
     "metadata": {},
     "output_type": "display_data"
    }
   ],
   "source": [
    "#Concact 2 close price    \n",
    "price_data = [BTC[\"Close\"], ETH[\"Close\"]]\n",
    "headers = [\"BTC\", \"ETH\"]\n",
    "price_df = pd.concat(price_data, axis=1, keys=headers).dropna()\n",
    "display(price_df)"
   ]
  },
  {
   "cell_type": "code",
   "execution_count": 14,
   "id": "b9e3688c",
   "metadata": {},
   "outputs": [
    {
     "name": "stdout",
     "output_type": "stream",
     "text": [
      "                            OLS Regression Results                            \n",
      "==============================================================================\n",
      "Dep. Variable:                    ETH   R-squared:                       0.969\n",
      "Model:                            OLS   Adj. R-squared:                  0.969\n",
      "Method:                 Least Squares   F-statistic:                 2.218e+04\n",
      "Date:                Thu, 15 Aug 2024   Prob (F-statistic):               0.00\n",
      "Time:                        22:34:12   Log-Likelihood:                -4430.6\n",
      "No. Observations:                 701   AIC:                             8865.\n",
      "Df Residuals:                     699   BIC:                             8874.\n",
      "Df Model:                           1                                         \n",
      "Covariance Type:            nonrobust                                         \n",
      "==============================================================================\n",
      "                 coef    std err          t      P>|t|      [0.025      0.975]\n",
      "------------------------------------------------------------------------------\n",
      "const        544.4281     11.830     46.021      0.000     521.202     567.655\n",
      "BTC            0.0435      0.000    148.916      0.000       0.043       0.044\n",
      "==============================================================================\n",
      "Omnibus:                        0.795   Durbin-Watson:                   0.098\n",
      "Prob(Omnibus):                  0.672   Jarque-Bera (JB):                0.636\n",
      "Skew:                           0.026   Prob(JB):                        0.728\n",
      "Kurtosis:                       3.138   Cond. No.                     9.43e+04\n",
      "==============================================================================\n",
      "\n",
      "Notes:\n",
      "[1] Standard Errors assume that the covariance matrix of the errors is correctly specified.\n",
      "[2] The condition number is large, 9.43e+04. This might indicate that there are\n",
      "strong multicollinearity or other numerical problems.\n"
     ]
    }
   ],
   "source": [
    "# Regression\n",
    "x = price_df['BTC']\n",
    "Y = price_df['ETH']\n",
    "x = sm.add_constant(x)\n",
    "model = sm.OLS(Y, x)\n",
    "result = model.fit()\n",
    "print(result.summary())"
   ]
  },
  {
   "cell_type": "code",
   "execution_count": 15,
   "id": "b064824c",
   "metadata": {},
   "outputs": [
    {
     "name": "stdout",
     "output_type": "stream",
     "text": [
      "hedge ratio: 0.043461421516468736, hedge constant: 544.4281125466536\n",
      "CADF:(-4.663626608260299, 9.843851449718441e-05, 5, 695, {'1%': -3.439794053189972, '5%': -2.8657075899001314, '10%': -2.56898934061384}, 6971.878254780801)\n",
      "the p-value of 9.843851449718441e-05 is less than 1%\n",
      "Proceed, stationary\n"
     ]
    },
    {
     "name": "stderr",
     "output_type": "stream",
     "text": [
      "/var/folders/cd/f8k7t0cj4ys82598qkc0bznr0000gn/T/ipykernel_7550/3978218189.py:2: FutureWarning: Series.__getitem__ treating keys as positions is deprecated. In a future version, integer keys will always be treated as labels (consistent with DataFrame behavior). To access a value by position, use `ser.iloc[pos]`\n",
      "  hedge_ratio = result.params[1]\n",
      "/var/folders/cd/f8k7t0cj4ys82598qkc0bznr0000gn/T/ipykernel_7550/3978218189.py:3: FutureWarning: Series.__getitem__ treating keys as positions is deprecated. In a future version, integer keys will always be treated as labels (consistent with DataFrame behavior). To access a value by position, use `ser.iloc[pos]`\n",
      "  hedge_const = result.params[0]\n"
     ]
    },
    {
     "data": {
      "text/plain": [
       "<Axes: xlabel='date'>"
      ]
     },
     "execution_count": 15,
     "metadata": {},
     "output_type": "execute_result"
    },
    {
     "data": {
      "image/png": "[encoded data removed]",
      "text/plain": [
       "<Figure size 640x480 with 1 Axes>"
      ]
     },
     "metadata": {},
     "output_type": "display_data"
    }
   ],
   "source": [
    "#Obtain hedging numbers\n",
    "hedge_ratio = result.params[1]\n",
    "hedge_const = result.params[0]\n",
    "print(f'hedge ratio: {hedge_ratio}, hedge constant: {hedge_const}')\n",
    "\n",
    "#Obtain residuals\n",
    "residuals = result.resid\n",
    "\n",
    "#Augumented Dickey-Fuller Test to check for staionarity of the spread\n",
    "adf_test = adfuller(residuals)\n",
    "print(f'CADF:{adf_test}')\n",
    "if(adf_test[1] < 0.01):\n",
    "    print(f'the p-value of {adf_test[1]} is less than 1%')\n",
    "    print('Proceed, stationary')\n",
    "else:\n",
    "    print('Stop! non-stationary')\n",
    "\n",
    "residuals.plot()"
   ]
  },
  {
   "cell_type": "code",
   "execution_count": 16,
   "id": "5dc22ea8",
   "metadata": {},
   "outputs": [
    {
     "name": "stdout",
     "output_type": "stream",
     "text": [
      "                            AutoReg Model Results                             \n",
      "==============================================================================\n",
      "Dep. Variable:                      y   No. Observations:                  701\n",
      "Model:                     AutoReg(1)   Log Likelihood               -3604.348\n",
      "Method:               Conditional MLE   S.D. of innovations             41.685\n",
      "Date:                Thu, 15 Aug 2024   AIC                           7214.696\n",
      "Time:                        22:34:20   BIC                           7228.349\n",
      "Sample:                    09-02-2022   HQIC                          7219.973\n",
      "                         - 08-01-2024                                         \n",
      "==============================================================================\n",
      "                 coef    std err          z      P>|z|      [0.025      0.975]\n",
      "------------------------------------------------------------------------------\n",
      "const         -0.4847      1.576     -0.308      0.758      -3.573       2.603\n",
      "y.L1           0.9509      0.012     81.118      0.000       0.928       0.974\n",
      "                                    Roots                                    \n",
      "=============================================================================\n",
      "                  Real          Imaginary           Modulus         Frequency\n",
      "-----------------------------------------------------------------------------\n",
      "AR.1            1.0516           +0.0000j            1.0516            0.0000\n",
      "-----------------------------------------------------------------------------\n"
     ]
    },
    {
     "name": "stderr",
     "output_type": "stream",
     "text": [
      "/opt/anaconda3/lib/python3.12/site-packages/statsmodels/tsa/base/tsa_model.py:473: ValueWarning: No frequency information was provided, so inferred frequency D will be used.\n",
      "  self._init_dates(dates, freq)\n"
     ]
    }
   ],
   "source": [
    "#Fitting the spread to OU model\n",
    "# e_t = C + Be_t-1 + error\n",
    "OU_model = AutoReg(residuals, lags=1)\n",
    "result = OU_model.fit()\n",
    "print(result.summary())"
   ]
  },
  {
   "cell_type": "code",
   "execution_count": 17,
   "id": "6012c308",
   "metadata": {},
   "outputs": [
    {
     "name": "stdout",
     "output_type": "stream",
     "text": [
      "tau: 0.0027397260273972603\n",
      "theta: 18.376099878201146\n",
      "half_life: 0.037720037720419604\n",
      "number of days to revert: 13.767813767953156\n",
      "mean: -9.871082407722996\n",
      "sigma_equalibrium: 134.78160525377615\n"
     ]
    }
   ],
   "source": [
    "B = result.params['y.L1']\n",
    "C = result.params['const']\n",
    "\n",
    "# Compute OU parameters \n",
    "tau = 1/365 # Since we are analyzing daily data for crypto (market opens 365 days a year)\n",
    "theta = -np.log(B)/tau\n",
    "half_life = np.log(2)/theta\n",
    "\n",
    "\n",
    "mu = C/(1-B)\n",
    "sigma_eq = result.resid.std() * np.sqrt(1/(1-np.exp(-2 * theta * tau)))\n",
    "\n",
    "print(\"tau:\",tau)\n",
    "print(\"theta:\", theta)\n",
    "print(\"half_life:\", half_life)\n",
    "print(\"number of days to revert:\", half_life/tau)\n",
    "print(\"mean:\", mu)\n",
    "print(\"sigma_equalibrium:\", sigma_eq)"
   ]
  },
  {
   "cell_type": "code",
   "execution_count": 18,
   "id": "57a0f856",
   "metadata": {},
   "outputs": [
    {
     "name": "stdout",
     "output_type": "stream",
     "text": [
      "-------Conclusion------\n",
      "Trade ETH against BTC: hedge ratio = 0.043461421516468736, hedge constant =544.4281125466536, residuals mean = -9.871082407722996, sigma_eq = 134.78160525377615\n"
     ]
    }
   ],
   "source": [
    "print(f'-------Conclusion------\\nTrade ETH against BTC: hedge ratio = {hedge_ratio}, hedge constant ={hedge_const}, residuals mean = {mu}, sigma_eq = {sigma_eq}')"
   ]
  },
  {
   "cell_type": "code",
   "execution_count": null,
   "id": "6f67b75a",
   "metadata": {},
   "outputs": [],
   "source": []
  }
 ],
 "metadata": {
  "kernelspec": {
   "display_name": "Python 3 (ipykernel)",
   "language": "python",
   "name": "python3"
  },
  "language_info": {
   "codemirror_mode": {
    "name": "ipython",
    "version": 3
   },
   "file_extension": ".py",
   "mimetype": "text/x-python",
   "name": "python",
   "nbconvert_exporter": "python",
   "pygments_lexer": "ipython3",
   "version": "3.12.2"
  },
  "nbTranslate": {
   "displayLangs": [
    "*"
   ],
   "hotkey": "alt-t",
   "langInMainMenu": true,
   "sourceLang": "en",
   "targetLang": "fr",
   "useGoogleTranslate": true
  },
  "toc": {
   "base_numbering": 1,
   "nav_menu": {},
   "number_sections": true,
   "sideBar": true,
   "skip_h1_title": false,
   "title_cell": "Table of Contents",
   "title_sidebar": "Contents",
   "toc_cell": false,
   "toc_position": {},
   "toc_section_display": true,
   "toc_window_display": false
  },
  "varInspector": {
   "cols": {
    "lenName": 16,
    "lenType": 16,
    "lenVar": 40
   },
   "kernels_config": {
    "python": {
     "delete_cmd_postfix": "",
     "delete_cmd_prefix": "del ",
     "library": "var_list.py",
     "varRefreshCmd": "print(var_dic_list())"
    },
    "r": {
     "delete_cmd_postfix": ") ",
     "delete_cmd_prefix": "rm(",
     "library": "var_list.r",
     "varRefreshCmd": "cat(var_dic_list()) "
    }
   },
   "types_to_exclude": [
    "module",
    "function",
    "builtin_function_or_method",
    "instance",
    "_Feature"
   ],
   "window_display": false
  }
 },
 "nbformat": 4,
 "nbformat_minor": 5
}
